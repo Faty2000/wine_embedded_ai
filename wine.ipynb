{
  "nbformat": 4,
  "nbformat_minor": 0,
  "metadata": {
    "colab": {
      "provenance": []
    },
    "kernelspec": {
      "name": "python3",
      "display_name": "Python 3"
    },
    "language_info": {
      "name": "python"
    }
  },
  "cells": [
    {
      "cell_type": "code",
      "execution_count": 10,
      "metadata": {
        "id": "4rWkqUDmturh"
      },
      "outputs": [],
      "source": [
        "# import necessary libraries\n",
        "import pandas as pd\n",
        "import tensorflow as tf\n",
        "from sklearn.model_selection import train_test_split\n",
        "from sklearn.preprocessing import StandardScaler\n"
      ]
    },
    {
      "cell_type": "code",
      "source": [
        "# Load the dataset\n",
        "file_path = '/content/sample_data/winequalityN.csv'\n",
        "df = pd.read_csv(file_path)\n",
        "\n",
        "# Drop rows with missing values for simplicity\n",
        "df = df.dropna()\n"
      ],
      "metadata": {
        "id": "mfhcrEy9txmO"
      },
      "execution_count": 4,
      "outputs": []
    },
    {
      "cell_type": "code",
      "source": [
        "# Define features (X) and target (y)\n",
        "X = df.drop('quality', axis=1)  # Assuming 'quality' is the target variable\n",
        "y = df['quality']\n",
        "\n",
        "# Convert categorical features to dummy variables\n",
        "X = pd.get_dummies(X)\n",
        "\n",
        "# Split the data into training and testing sets\n",
        "X_train, X_test, y_train, y_test = train_test_split(X, y, test_size=0.2, random_state=42)\n",
        "\n",
        "# Standardize the features\n",
        "scaler = StandardScaler()\n",
        "X_train = scaler.fit_transform(X_train)\n",
        "X_test = scaler.transform(X_test)\n"
      ],
      "metadata": {
        "id": "7YBiTaRRtxlj"
      },
      "execution_count": 5,
      "outputs": []
    },
    {
      "cell_type": "code",
      "source": [
        "# Build a simple model for illustration\n",
        "model = tf.keras.models.Sequential([\n",
        "    tf.keras.layers.Dense(32, activation='relu', input_shape=(X_train.shape[1],)),\n",
        "    tf.keras.layers.Dense(1)\n",
        "])\n",
        "\n",
        "# Compile the model\n",
        "model.compile(optimizer='adam', loss='mse', metrics=['mae'])\n",
        "\n",
        "# Train the model\n",
        "model.fit(X_train, y_train, epochs=10, validation_split=0.2)\n"
      ],
      "metadata": {
        "colab": {
          "base_uri": "https://localhost:8080/"
        },
        "id": "wvUjejYBtxk1",
        "outputId": "739b0fdf-a989-42d5-c200-d9aed402e962"
      },
      "execution_count": 6,
      "outputs": [
        {
          "output_type": "stream",
          "name": "stdout",
          "text": [
            "Epoch 1/10\n",
            "130/130 [==============================] - 2s 7ms/step - loss: 23.1430 - mae: 4.5753 - val_loss: 11.5142 - val_mae: 3.1370\n",
            "Epoch 2/10\n",
            "130/130 [==============================] - 0s 4ms/step - loss: 5.9876 - mae: 2.1003 - val_loss: 2.6506 - val_mae: 1.2694\n",
            "Epoch 3/10\n",
            "130/130 [==============================] - 1s 4ms/step - loss: 1.9880 - mae: 1.1080 - val_loss: 1.7349 - val_mae: 0.9846\n",
            "Epoch 4/10\n",
            "130/130 [==============================] - 1s 9ms/step - loss: 1.5473 - mae: 0.9683 - val_loss: 1.4608 - val_mae: 0.9112\n",
            "Epoch 5/10\n",
            "130/130 [==============================] - 1s 8ms/step - loss: 1.3316 - mae: 0.8986 - val_loss: 1.2668 - val_mae: 0.8528\n",
            "Epoch 6/10\n",
            "130/130 [==============================] - 1s 9ms/step - loss: 1.1744 - mae: 0.8441 - val_loss: 1.1376 - val_mae: 0.8075\n",
            "Epoch 7/10\n",
            "130/130 [==============================] - 1s 4ms/step - loss: 1.0495 - mae: 0.7972 - val_loss: 1.0229 - val_mae: 0.7635\n",
            "Epoch 8/10\n",
            "130/130 [==============================] - 0s 2ms/step - loss: 0.9462 - mae: 0.7563 - val_loss: 0.9287 - val_mae: 0.7252\n",
            "Epoch 9/10\n",
            "130/130 [==============================] - 0s 2ms/step - loss: 0.8605 - mae: 0.7205 - val_loss: 0.8526 - val_mae: 0.6927\n",
            "Epoch 10/10\n",
            "130/130 [==============================] - 0s 2ms/step - loss: 0.7937 - mae: 0.6909 - val_loss: 0.7942 - val_mae: 0.6688\n"
          ]
        },
        {
          "output_type": "execute_result",
          "data": {
            "text/plain": [
              "<keras.src.callbacks.History at 0x7a31cef38280>"
            ]
          },
          "metadata": {},
          "execution_count": 6
        }
      ]
    },
    {
      "cell_type": "code",
      "source": [
        "# Save the trained model in H5 format\n",
        "model.save('wine_quality_model.h5')\n"
      ],
      "metadata": {
        "colab": {
          "base_uri": "https://localhost:8080/"
        },
        "id": "7YSmkbHEtxbI",
        "outputId": "dff57fcc-cfb5-45e7-a673-f606db2f514b"
      },
      "execution_count": 7,
      "outputs": [
        {
          "output_type": "stream",
          "name": "stderr",
          "text": [
            "/usr/local/lib/python3.10/dist-packages/keras/src/engine/training.py:3000: UserWarning: You are saving your model as an HDF5 file via `model.save()`. This file format is considered legacy. We recommend using instead the native Keras format, e.g. `model.save('my_model.keras')`.\n",
            "  saving_api.save_model(\n"
          ]
        }
      ]
    },
    {
      "cell_type": "code",
      "source": [
        "import numpy as np"
      ],
      "metadata": {
        "id": "xTsaU2ra9Hcz"
      },
      "execution_count": 8,
      "outputs": []
    },
    {
      "cell_type": "code",
      "source": [
        "# Save xtest and ytest as .npy files\n",
        "np.save('xtest.npy', X_test)\n",
        "np.save('ytest.npy', y_test)"
      ],
      "metadata": {
        "id": "vUYob-DItxL7"
      },
      "execution_count": 9,
      "outputs": []
    }
  ]
}